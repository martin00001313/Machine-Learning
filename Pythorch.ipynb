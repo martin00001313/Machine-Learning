{
  "nbformat": 4,
  "nbformat_minor": 0,
  "metadata": {
    "colab": {
      "name": "Untitled0.ipynb",
      "provenance": [],
      "include_colab_link": true
    },
    "kernelspec": {
      "name": "python3",
      "display_name": "Python 3"
    }
  },
  "cells": [
    {
      "cell_type": "markdown",
      "metadata": {
        "id": "view-in-github",
        "colab_type": "text"
      },
      "source": [
        "<a href=\"https://colab.research.google.com/github/martin00001313/Machine-Learning/blob/master/Pythorch.ipynb\" target=\"_parent\"><img src=\"https://colab.research.google.com/assets/colab-badge.svg\" alt=\"Open In Colab\"/></a>"
      ]
    },
    {
      "cell_type": "code",
      "metadata": {
        "id": "DL-v0Ntcv-A6",
        "colab_type": "code",
        "colab": {}
      },
      "source": [
        "import torch\n",
        "import torchvision\n",
        "from torchvision import transforms, datasets"
      ],
      "execution_count": 0,
      "outputs": []
    },
    {
      "cell_type": "code",
      "metadata": {
        "id": "OeQPA0WSwk9A",
        "colab_type": "code",
        "colab": {}
      },
      "source": [
        "train = datasets.MNIST(\"\", train=True, download=True, transform=transforms.Compose([transforms.ToTensor()]))"
      ],
      "execution_count": 0,
      "outputs": []
    },
    {
      "cell_type": "code",
      "metadata": {
        "id": "cxFoJo2Ixp0S",
        "colab_type": "code",
        "colab": {}
      },
      "source": [
        "test = datasets.MNIST(\"\", train=False, download=True, transform=transforms.Compose([transforms.ToTensor()]))"
      ],
      "execution_count": 0,
      "outputs": []
    },
    {
      "cell_type": "code",
      "metadata": {
        "id": "1TkgnmBkxtt0",
        "colab_type": "code",
        "colab": {}
      },
      "source": [
        "trainset = torch.utils.data.DataLoader(train, batch_size=10, shuffle=True)\n",
        "testset = torch.utils.data.DataLoader(test, batch_size=10, shuffle=True)"
      ],
      "execution_count": 0,
      "outputs": []
    },
    {
      "cell_type": "code",
      "metadata": {
        "id": "BSMKB7-GyZ3F",
        "colab_type": "code",
        "colab": {}
      },
      "source": [
        "for i in trainset:\n",
        "  print(i)\n",
        "  break"
      ],
      "execution_count": 0,
      "outputs": []
    },
    {
      "cell_type": "code",
      "metadata": {
        "id": "fEW_IfNr1cB_",
        "colab_type": "code",
        "colab": {}
      },
      "source": [
        "x, y = i[0][0], i[0][1]"
      ],
      "execution_count": 0,
      "outputs": []
    },
    {
      "cell_type": "code",
      "metadata": {
        "id": "fyoK21LK17tN",
        "colab_type": "code",
        "colab": {
          "base_uri": "https://localhost:8080/",
          "height": 282
        },
        "outputId": "13c9b276-92a5-44df-f893-011494110eb2"
      },
      "source": [
        "import matplotlib.pyplot as plt\n",
        "plt.imshow(x.view(28,28))    # to shape (1, 28, 28) -> (28, 28)"
      ],
      "execution_count": 9,
      "outputs": [
        {
          "output_type": "execute_result",
          "data": {
            "text/plain": [
              "<matplotlib.image.AxesImage at 0x7f1111e02828>"
            ]
          },
          "metadata": {
            "tags": []
          },
          "execution_count": 9
        },
        {
          "output_type": "display_data",
          "data": {
            "image/png": "[encoded data removed]",
            "text/plain": [
              "<Figure size 432x288 with 1 Axes>"
            ]
          },
          "metadata": {
            "tags": []
          }
        }
      ]
    },
    {
      "cell_type": "code",
      "metadata": {
        "id": "P7V9loEG2Jqk",
        "colab_type": "code",
        "colab": {}
      },
      "source": [
        "import torch.nn as nn\n",
        "import torch.nn.functional as F"
      ],
      "execution_count": 0,
      "outputs": []
    },
    {
      "cell_type": "code",
      "metadata": {
        "id": "JTaCXW5w_SI0",
        "colab_type": "code",
        "colab": {
          "base_uri": "https://localhost:8080/",
          "height": 121
        },
        "outputId": "304e4258-cae4-40fc-a4d3-2eeb3570bd87"
      },
      "source": [
        "class NN(nn.Module):\n",
        "  def __init__(self):\n",
        "    super().__init__()\n",
        "    self.l1 = nn.Linear(28*28, 64)\n",
        "    self.l2 = nn.Linear(64, 64)\n",
        "    self.l3 = nn.Linear(64, 64)\n",
        "    self.l4 = nn.Linear(64, 10)\n",
        "\n",
        "  def forward(self, input):\n",
        "    input = F.relu(self.l1(input))\n",
        "    input = F.relu(self.l2(input))\n",
        "    input = F.relu(self.l3(input))\n",
        "    input = self.l4(input)\n",
        "    return F.log_softmax(input, dim=1 )\n",
        "\n",
        "net = NN()\n",
        "print(net)"
      ],
      "execution_count": 38,
      "outputs": [
        {
          "output_type": "stream",
          "text": [
            "NN(\n",
            "  (l1): Linear(in_features=784, out_features=64, bias=True)\n",
            "  (l2): Linear(in_features=64, out_features=64, bias=True)\n",
            "  (l3): Linear(in_features=64, out_features=64, bias=True)\n",
            "  (l4): Linear(in_features=64, out_features=10, bias=True)\n",
            ")\n"
          ],
          "name": "stdout"
        }
      ]
    },
    {
      "cell_type": "code",
      "metadata": {
        "id": "bfauFIZyCxse",
        "colab_type": "code",
        "colab": {}
      },
      "source": [
        "x = torch.rand((28, 28))"
      ],
      "execution_count": 0,
      "outputs": []
    },
    {
      "cell_type": "code",
      "metadata": {
        "id": "Pu2_-RrV0HxO",
        "colab_type": "code",
        "colab": {}
      },
      "source": [
        "x = x.view(-1, 28*28)  # -1, i.e. it would be unknown shape\n",
        "out = net.forward(x)"
      ],
      "execution_count": 0,
      "outputs": []
    },
    {
      "cell_type": "code",
      "metadata": {
        "id": "0tWdKK-G0i5A",
        "colab_type": "code",
        "colab": {
          "base_uri": "https://localhost:8080/",
          "height": 52
        },
        "outputId": "4c36c3ba-844c-405c-845d-f715c065beba"
      },
      "source": [
        "out\n"
      ],
      "execution_count": 41,
      "outputs": [
        {
          "output_type": "execute_result",
          "data": {
            "text/plain": [
              "tensor([[-2.2290, -2.3331, -2.2219, -2.2432, -2.3665, -2.3951, -2.2612, -2.4069,\n",
              "         -2.1860, -2.4170]], grad_fn=<LogSoftmaxBackward>)"
            ]
          },
          "metadata": {
            "tags": []
          },
          "execution_count": 41
        }
      ]
    },
    {
      "cell_type": "code",
      "metadata": {
        "id": "BMI3kvsx0kyu",
        "colab_type": "code",
        "colab": {}
      },
      "source": [
        "import torch.optim as optim\n",
        "\n",
        "optimizer = optim.Adam(net.parameters(), lr=0.001)"
      ],
      "execution_count": 0,
      "outputs": []
    },
    {
      "cell_type": "code",
      "metadata": {
        "id": "ECgUron85a5W",
        "colab_type": "code",
        "colab": {
          "base_uri": "https://localhost:8080/",
          "height": 156
        },
        "outputId": "9e6d794f-92ae-46ab-b7a4-fe555aa772d4"
      },
      "source": [
        "optimizer"
      ],
      "execution_count": 43,
      "outputs": [
        {
          "output_type": "execute_result",
          "data": {
            "text/plain": [
              "Adam (\n",
              "Parameter Group 0\n",
              "    amsgrad: False\n",
              "    betas: (0.9, 0.999)\n",
              "    eps: 1e-08\n",
              "    lr: 0.001\n",
              "    weight_decay: 0\n",
              ")"
            ]
          },
          "metadata": {
            "tags": []
          },
          "execution_count": 43
        }
      ]
    },
    {
      "cell_type": "code",
      "metadata": {
        "id": "aS8zcURk5dD4",
        "colab_type": "code",
        "colab": {}
      },
      "source": [
        "EPOCHS = 3 # count of iterations on the whole db"
      ],
      "execution_count": 0,
      "outputs": []
    },
    {
      "cell_type": "code",
      "metadata": {
        "id": "Vehzf6Px6SB0",
        "colab_type": "code",
        "colab": {
          "base_uri": "https://localhost:8080/",
          "height": 69
        },
        "outputId": "7e2d3f0d-bd94-46f3-c9ed-88211782a735"
      },
      "source": [
        "for epoch in range(EPOCHS):\n",
        "  for data in trainset:\n",
        "    X, y = data\n",
        "    net.zero_grad() # reset all loss gradients\n",
        "    output = net(X.view(-1, 28*28))\n",
        "    loss = F.nll_loss(output, y) # for one hot use MSE\n",
        "    loss.backward() # backward prop\n",
        "    optimizer.step() #adjust weights for us\n",
        "  print(loss)"
      ],
      "execution_count": 46,
      "outputs": [
        {
          "output_type": "stream",
          "text": [
            "tensor(0.0023, grad_fn=<NllLossBackward>)\n",
            "tensor(0.0091, grad_fn=<NllLossBackward>)\n",
            "tensor(0.0230, grad_fn=<NllLossBackward>)\n"
          ],
          "name": "stdout"
        }
      ]
    },
    {
      "cell_type": "code",
      "metadata": {
        "id": "76BLi_3t6nrz",
        "colab_type": "code",
        "colab": {
          "base_uri": "https://localhost:8080/",
          "height": 34
        },
        "outputId": "890c5743-0c14-4831-facf-4b06b2b8d13e"
      },
      "source": [
        "correct = 0\n",
        "total = 0\n",
        "with torch.no_grad():\n",
        "  for data in trainset:\n",
        "    output = net(x.view(-1, 784))\n",
        "    for idx, i in enumerate(output):\n",
        "      if torch.argmax(i) != y[idx]:\n",
        "        correct +=1 \n",
        "      total +=1\n",
        "print(\"Accuracy: \", round(correct/total, 3))\n"
      ],
      "execution_count": 49,
      "outputs": [
        {
          "output_type": "stream",
          "text": [
            "Accuracy:  1.0\n"
          ],
          "name": "stdout"
        }
      ]
    },
    {
      "cell_type": "code",
      "metadata": {
        "id": "_mmbdspw9Dco",
        "colab_type": "code",
        "colab": {}
      },
      "source": [
        "X\n"
      ],
      "execution_count": 0,
      "outputs": []
    },
    {
      "cell_type": "code",
      "metadata": {
        "id": "gV_ANZXd-nRc",
        "colab_type": "code",
        "colab": {
          "base_uri": "https://localhost:8080/",
          "height": 282
        },
        "outputId": "fea26baf-a9d2-4b92-e615-1049af89acc9"
      },
      "source": [
        "plt.imshow(X[1].view((28, 28)))"
      ],
      "execution_count": 55,
      "outputs": [
        {
          "output_type": "execute_result",
          "data": {
            "text/plain": [
              "<matplotlib.image.AxesImage at 0x7f11118270f0>"
            ]
          },
          "metadata": {
            "tags": []
          },
          "execution_count": 55
        },
        {
          "output_type": "display_data",
          "data": {
            "image/png": "[encoded data removed]",
            "text/plain": [
              "<Figure size 432x288 with 1 Axes>"
            ]
          },
          "metadata": {
            "tags": []
          }
        }
      ]
    },
    {
      "cell_type": "code",
      "metadata": {
        "id": "zlyOrGwO-uqK",
        "colab_type": "code",
        "colab": {
          "base_uri": "https://localhost:8080/",
          "height": 34
        },
        "outputId": "93f11950-beae-46dc-b673-e822a8cf8591"
      },
      "source": [
        "print(torch.argmax(net(X[1].view(-1, 28*28))[0]))"
      ],
      "execution_count": 57,
      "outputs": [
        {
          "output_type": "stream",
          "text": [
            "tensor(2)\n"
          ],
          "name": "stdout"
        }
      ]
    },
    {
      "cell_type": "code",
      "metadata": {
        "id": "ow-ICB3n_GJf",
        "colab_type": "code",
        "colab": {}
      },
      "source": [
        ""
      ],
      "execution_count": 0,
      "outputs": []
    }
  ]
}